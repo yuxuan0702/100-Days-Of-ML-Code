{
  "nbformat": 4,
  "nbformat_minor": 0,
  "metadata": {
    "colab": {
      "name": "SNA assignment.ipynb",
      "provenance": [],
      "mount_file_id": "1CmWFkSx7bLRZ6AL0lj-cIR2vYMf-9Dgp",
      "authorship_tag": "ABX9TyOPvaCCLHVNGCurPAHQegD2",
      "include_colab_link": true
    },
    "kernelspec": {
      "name": "python3",
      "display_name": "Python 3"
    }
  },
  "cells": [
    {
      "cell_type": "markdown",
      "metadata": {
        "id": "view-in-github",
        "colab_type": "text"
      },
      "source": [
        "<a href=\"https://colab.research.google.com/github/yuxuan0702/100-Days-Of-ML-Code/blob/master/SNA_assignment.ipynb\" target=\"_parent\"><img src=\"https://colab.research.google.com/assets/colab-badge.svg\" alt=\"Open In Colab\"/></a>"
      ]
    },
    {
      "cell_type": "code",
      "metadata": {
        "id": "e4IY5cPwR8V1",
        "colab_type": "code",
        "outputId": "3654b539-a36e-4e1c-d748-8ba799f50b61",
        "colab": {
          "base_uri": "https://localhost:8080/",
          "height": 190
        }
      },
      "source": [
        "pip install GetOldTweets3"
      ],
      "execution_count": 0,
      "outputs": [
        {
          "output_type": "stream",
          "text": [
            "Collecting GetOldTweets3\n",
            "  Downloading https://files.pythonhosted.org/packages/ed/f4/a00c2a7c90801abc875325bb5416ce9090ac86d06a00cc887131bd73ba45/GetOldTweets3-0.0.11-py3-none-any.whl\n",
            "Requirement already satisfied: lxml>=3.5.0 in /usr/local/lib/python3.6/dist-packages (from GetOldTweets3) (4.2.6)\n",
            "Collecting pyquery>=1.2.10\n",
            "  Downloading https://files.pythonhosted.org/packages/78/43/95d42e386c61cb639d1a0b94f0c0b9f0b7d6b981ad3c043a836c8b5bc68b/pyquery-1.4.1-py2.py3-none-any.whl\n",
            "Collecting cssselect>0.7.9\n",
            "  Downloading https://files.pythonhosted.org/packages/3b/d4/3b5c17f00cce85b9a1e6f91096e1cc8e8ede2e1be8e96b87ce1ed09e92c5/cssselect-1.1.0-py2.py3-none-any.whl\n",
            "Installing collected packages: cssselect, pyquery, GetOldTweets3\n",
            "Successfully installed GetOldTweets3-0.0.11 cssselect-1.1.0 pyquery-1.4.1\n"
          ],
          "name": "stdout"
        }
      ]
    },
    {
      "cell_type": "code",
      "metadata": {
        "id": "WPycVl3FSC_5",
        "colab_type": "code",
        "colab": {}
      },
      "source": [
        "# import packages \n",
        "\n",
        "import pandas as pd\n",
        "import numpy as np\n",
        "import matplotlib.pyplot as plt \n",
        "import tweepy\n",
        "import GetOldTweets3 as got\n",
        "import networkx as nx"
      ],
      "execution_count": 0,
      "outputs": []
    },
    {
      "cell_type": "code",
      "metadata": {
        "id": "w32lnMFxgVsL",
        "colab_type": "code",
        "colab": {}
      },
      "source": [
        "# key \n",
        "consumer_key='aNzTVCtkrtjTbxzsh8HrdEUGT'\n",
        "consumer_secret='43dFxOpaFj3SNtZ9Asxv45Zqx2kDnZjc4q3yeFnXBifAYfiFoc'\n",
        "access_token_key='1018463783503593474-KBsocfX4tEPxiv17dlYRAFYKCXRjSN'\n",
        "access_token_secret='6oRVZizZBVNEUVKx1t0fp9qKYmaTN5TV4lDBONQpbvfIT'"
      ],
      "execution_count": 0,
      "outputs": []
    },
    {
      "cell_type": "code",
      "metadata": {
        "id": "WfYQzvhugXVx",
        "colab_type": "code",
        "colab": {}
      },
      "source": [
        "# set the key \n",
        "auth = tweepy.OAuthHandler(consumer_key, consumer_secret)\n",
        "auth.set_access_token(access_token_key, access_token_secret)\n",
        "api = tweepy.API(auth,wait_on_rate_limit=True)"
      ],
      "execution_count": 0,
      "outputs": []
    },
    {
      "cell_type": "code",
      "metadata": {
        "id": "ESxYcP4gSbT_",
        "colab_type": "code",
        "colab": {}
      },
      "source": [
        "# get current tweet \n",
        "tweetCriteria = got.manager.TweetCriteria().setQuerySearch('Bentley Student')\\\n",
        "                                           .setMaxTweets(100)"
      ],
      "execution_count": 0,
      "outputs": []
    },
    {
      "cell_type": "code",
      "metadata": {
        "id": "3gD0uOfmTQsE",
        "colab_type": "code",
        "colab": {}
      },
      "source": [
        "# search current tweet \n",
        "username=[]\n",
        "twitter_text=[]\n",
        "time=[]\n",
        "retweet=[]\n",
        "fav=[]\n",
        "\n",
        "for i in range(100):\n",
        "  tweet = got.manager.TweetManager.getTweets(tweetCriteria)[i]\n",
        "  username.append(tweet.username)\n",
        "  twitter_text.append(tweet.text)\n",
        "  time.append(tweet.date)\n",
        "  retweet.append(tweet.retweets)\n",
        "  fav.append(tweet.favorites)"
      ],
      "execution_count": 0,
      "outputs": []
    },
    {
      "cell_type": "code",
      "metadata": {
        "id": "GCB5U-1hg5eb",
        "colab_type": "code",
        "colab": {}
      },
      "source": [
        "#establish the dataframe\n",
        "data=pd.DataFrame([username,twitter_text,time,retweet,fav]).transpose()\n",
        "data.columns=['username','tweet','time','retweet','fav']\n",
        "data"
      ],
      "execution_count": 0,
      "outputs": []
    },
    {
      "cell_type": "code",
      "metadata": {
        "id": "aYef8bd6gHtA",
        "colab_type": "code",
        "colab": {}
      },
      "source": [
        "#previous user name \n",
        "user=list(df['username'])\n",
        "len(user)"
      ],
      "execution_count": 0,
      "outputs": []
    },
    {
      "cell_type": "code",
      "metadata": {
        "id": "2P6An_lNgdGA",
        "colab_type": "code",
        "colab": {}
      },
      "source": [
        "p_user=[]\n",
        "p_friend=[]"
      ],
      "execution_count": 0,
      "outputs": []
    },
    {
      "cell_type": "code",
      "metadata": {
        "id": "qGqtvCbAgjB-",
        "colab_type": "code",
        "colab": {}
      },
      "source": [
        "for i in range (0,37,1):\n",
        "    for fo in api.friends_ids(user[i]):\n",
        "      try:\n",
        "        p_user.append(user[i])\n",
        "        p_friend.append(api.get_user(fo).screen_name)\n",
        "        print (user[i],api.get_user(fo).screen_name)\n",
        "      except tweepy.TweepError as e:\n",
        "        print(\"exception\")"
      ],
      "execution_count": 0,
      "outputs": []
    },
    {
      "cell_type": "code",
      "metadata": {
        "id": "7I3cpvNhmAPt",
        "colab_type": "code",
        "colab": {}
      },
      "source": [
        "data=pd.DataFrame([p_user,p_friend]).transpose()\n",
        "data.columns=['to','from']\n",
        "data"
      ],
      "execution_count": 0,
      "outputs": []
    }
  ]
}